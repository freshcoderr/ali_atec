{
 "cells": [
  {
   "cell_type": "code",
   "execution_count": 1,
   "metadata": {},
   "outputs": [],
   "source": [
    " # -*- coding:utf-8 -*-\n",
    "import jieba\n",
    "import pandas as pd\n",
    "import numpy as np\n",
    "import os\n",
    "import xgboost\n",
    "import seaborn as sns\n",
    "import matplotlib.pyplot as plt"
   ]
  },
  {
   "cell_type": "code",
   "execution_count": 6,
   "metadata": {},
   "outputs": [
    {
     "name": "stdout",
     "output_type": "stream",
     "text": [
      "<bound method DataFrame.head of             id                                    s1  \\\n",
      "0            1                            怎么更改花呗手机号码   \n",
      "1            2                       也开不了花呗，就这样了？完事了   \n",
      "2            3                           花呗冻结以后还能开通吗   \n",
      "3            4                              如何得知关闭借呗   \n",
      "4            5                                花呗扫码付钱   \n",
      "5            6                            花呗逾期后不能分期吗   \n",
      "6            7                                花呗分期清空   \n",
      "7            8                              借呗逾期短信通知   \n",
      "8            9                      借呗即将到期要还的账单还能分期吗   \n",
      "9           10                         花呗为什么不能支付手机交易   \n",
      "10          11                       在吗，双***有临时花呗额度吗   \n",
      "11          12                            我什么时候开通了花呗   \n",
      "12          13                花呗每月还了最低还款后还会有万分之五的利息吗   \n",
      "13          14                          我想用蚂蚁借呗怎么用不了   \n",
      "14          15                               花呗也不能用了   \n",
      "15          16                           花呗的安全没有验证成功   \n",
      "16          17                               我开通不了借呗   \n",
      "17          18                           借呗还款了，额度未恢复   \n",
      "18          19                   就是我花呗忘记还款了。逾期一天。有事吗   \n",
      "19          20                           我问你我借呗怎么要还钱   \n",
      "20          21                           是否有花呗就不可以借呗   \n",
      "21          22                             闲鱼可以使用花呗吗   \n",
      "22          23                              花呗可以买手机吗   \n",
      "23          24                              借呗每月还款时间   \n",
      "24          25                             花呗更改绑定银行卡   \n",
      "25          26                              人脸验证开通花呗   \n",
      "26          27                           借呗可以提前还第一期吗   \n",
      "27          28                      花呗付款成功为何美团显示支付超时   \n",
      "28          29                        花呗我已经还了，现在要还借呗   \n",
      "29          30                           国外账户可以开通借呗吗   \n",
      "...        ...                                   ...   \n",
      "102447  102448                             我想提前把花呗还了   \n",
      "102448  102449                       商户最多可以有多少花呗收款额度   \n",
      "102449  102450                     借呗的按期还款可以设置为手动还款吗   \n",
      "102450  102451                         转账不可以用花呗里面的钱吗   \n",
      "102451  102452                           我为啥没有 花呗和借呗   \n",
      "102452  102453                        花呗是使用和借呗的使用冲突吗   \n",
      "102453  102454                         为什么本月花呗账单不能分期   \n",
      "102454  102455                              如何关闭首选花呗   \n",
      "102455  102456                         共享单车可以使用蚂蚁花呗吗   \n",
      "102456  102457                           花呗是否可在闲鱼上使用   \n",
      "102457  102458  我是***月***号用的花呗，是不是只要在***月***号还完就不用利息   \n",
      "102458  102459                               借呗可逾期多久   \n",
      "102459  102460     我已经通过淘宝给商家付了七十九，为什么花呗上面显示我还应该还***   \n",
      "102460  102461                           经常花呗分期有什么影响   \n",
      "102461  102462                          直接花呗界面这个账单多好   \n",
      "102462  102463                    为什么跨店用的购物津贴不能用花呗付款   \n",
      "102463  102464                            我的花呗什么时候能用   \n",
      "102464  102465                        每个商品单独付款都是可以花呗   \n",
      "102465  102466                        为什么不同的人借呗利息不一样   \n",
      "102466  102467                   花呗的花呗的款式，确认收货以后才扣的吗   \n",
      "102467  102468                            花呗分期，影响借呗吗   \n",
      "102468  102469                                借呗怎么还款   \n",
      "102469  102470                            如何设置花呗改款顺序   \n",
      "102470  102471                             支付宝客服电话多少   \n",
      "102471  102472                 我在淘宝买东西的话，钱不够时可以使用花呗吗   \n",
      "102472  102473                           花呗分期还一期后能用吗   \n",
      "102473  102474                  我的支付宝手机号很花呗手机号不一样怎么办   \n",
      "102474  102475                       借呗这个月的分期晚几天还可以吗   \n",
      "102475  102476                          我怎么没有花呗临时额度了   \n",
      "102476  102477                           怎么授权芝麻信用给花呗   \n",
      "\n",
      "                                    s2  is_duplicate  \n",
      "0       我的花呗是以前的手机号码，怎么更改成现在的支付宝的号码手机号             1  \n",
      "1                           真的嘛？就是花呗付款             0  \n",
      "2                        我的条件可以开通花呗借款吗             0  \n",
      "3                              想永久关闭借呗             0  \n",
      "4                          二维码扫描可以用花呗吗             0  \n",
      "5               我这个 逾期后还完了 最低还款 后 能分期吗             0  \n",
      "6                               花呗分期查询             0  \n",
      "7                           如何购买花呗短信通知             0  \n",
      "8                            借呗要分期还，是吗             0  \n",
      "9                      花呗透支了为什么不可以继续用了             0  \n",
      "10                        花呗临时额度到时间怎么办             0  \n",
      "11                         查我什么时候用过，花呗             0  \n",
      "12                        花呗每个月最低还款怎么算             0  \n",
      "13           蚂蚁借呗设置了一次性还款，现在想分期还款，怎么操作             0  \n",
      "14                               花呗没用过             0  \n",
      "15                       花呗安全验证没通过怎么回事             1  \n",
      "16                              我要申请借呗             0  \n",
      "17                    借呗还款后额度没有恢复还显示借款             1  \n",
      "18                     花呗账单在到期当天还款是逾期吗             0  \n",
      "19                          怎么一次性还蚂蚁借呗             0  \n",
      "20                         不实用花呗就没有借呗吗             0  \n",
      "21                        花呗可以在闲鱼上面交易吗             1  \n",
      "22                           花呗逾期一天可以么             0  \n",
      "23                             借呗多少天还款             0  \n",
      "24                         如何更换花呗绑定银行卡             1  \n",
      "25                              花呗怎么验证             0  \n",
      "26                    蚂蚁借呗借款可以提前一次性还清吗             0  \n",
      "27             美团订单没显示付款成功但是花呗显示付了三遍订单             0  \n",
      "28        我上个月已经还过的一笔，现在退回来的钱怎么还直接退回花呗             0  \n",
      "29                           借呗逾期还能开通吗             0  \n",
      "...                                ...           ...  \n",
      "102447                         花呗逾期提前还             0  \n",
      "102448                     花呗退款后额度恢复多少             0  \n",
      "102449                   借呗自动还款失败后手动还款             0  \n",
      "102450                花呗里的钱可以转到支付宝余额里吗             0  \n",
      "102451                     借呗和花呗为什么用不了             0  \n",
      "102452                      花呗和借呗一样的是吗             0  \n",
      "102453                      花呗分期账单数额错误             0  \n",
      "102454                          花呗余额关闭             0  \n",
      "102455                    用蚂蚁花呗能刷共享单车吗             1  \n",
      "102456                       花呗可以用于闲鱼吗             1  \n",
      "102457                  不使用花呗是不是就不用还利息             0  \n",
      "102458                     逾期了两次还可以借呗不             0  \n",
      "102459           我已经用花呗支付过***次了，为什么没显示             0  \n",
      "102460                  花呗分期还会对芝麻分有影响吗             1  \n",
      "102461          花呗已经关了，现在这个账户，然后开通不了花呗             0  \n",
      "102462            使用花呗付款的话，还能用购物津贴和红包吗             1  \n",
      "102463                       花呗到什么时候收钱             0  \n",
      "102464         是不是所有可以支付宝付款的店家都可以用花呗付款             0  \n",
      "102465  问，为什么我在借呗上借两万，分六期，为什么每期的利息都不一样             1  \n",
      "102466                   使用花呗付款要点确认收货吗             0  \n",
      "102467              我的借呗每个月分期准时还会影响信用吗             0  \n",
      "102468     我想从借唄借两万，按期还款，每月应该还多少，利息怎么算             0  \n",
      "102469                        蚂蚁花呗还款顺序             0  \n",
      "102470                          客服电话多少             1  \n",
      "102471                我买东西不是在淘宝上买能用花呗吗             0  \n",
      "102472                         分期是还花呗吗             0  \n",
      "102473             支付宝上的手机号，怎么和花呗上的不一样             1  \n",
      "102474                  借呗分期后可以更改分期时间吗             0  \n",
      "102475                        花呗有零时额度吗             0  \n",
      "102476                     花呗授权联系人怎么授权             0  \n",
      "\n",
      "[102477 rows x 4 columns]>\n"
     ]
    }
   ],
   "source": [
    "train_data_path = '/Users/yuanxihao/work/coder/python_workplace/kaggle/Ali-ATEC/atec_nlp.csv'\n",
    "df_train = pd.read_csv(train_data_path)\n",
    "print df_train.head\n"
   ]
  },
  {
   "cell_type": "code",
   "execution_count": 9,
   "metadata": {},
   "outputs": [],
   "source": [
    "'''\n",
    "中文停用词\n",
    "'''\n",
    "stopwords_path = \"stopwords.txt\"\n",
    "stopwords = []\n",
    "for word in open(stopwords_path,\"r\").readlines():\n",
    "    stopwords.append(word.strip('\\n'))"
   ]
  },
  {
   "cell_type": "code",
   "execution_count": 10,
   "metadata": {},
   "outputs": [
    {
     "name": "stdout",
     "output_type": "stream",
     "text": [
      "['!', '\"', '#', '$', '%', '&', \"'\", '(', ')', '\\t*']\n"
     ]
    }
   ],
   "source": [
    "print stopwords[:10]"
   ]
  },
  {
   "cell_type": "code",
   "execution_count": 11,
   "metadata": {},
   "outputs": [],
   "source": [
    "'''\n",
    "jieba中文分词\n",
    "input: str\n",
    "output: list of words\n",
    "'''\n",
    "def jieba_cut(sentence):\n",
    "    seg_list = jieba.cut(sentence)\n",
    "    return \",\".join(seg_list).split(',')\n",
    "\n",
    "import json\n",
    "def json_dump(object_):\n",
    "    return json.dumps(object_, ensure_ascii=False, encoding='utf8', indent=4)"
   ]
  },
  {
   "cell_type": "code",
   "execution_count": 12,
   "metadata": {},
   "outputs": [],
   "source": [
    "'''\n",
    "word match share\n",
    "'''\n",
    "def word_match_share(row):\n",
    "    q1words = {}\n",
    "    q2words = {}\n",
    "    for word in jieba_cut(row['s1']):\n",
    "        if word not in stopwords:\n",
    "            q1words[word] = 1\n",
    "    for word in jieba_cut(row['s2']):\n",
    "        if word not in stopwords:\n",
    "            q2words[word] = 1\n",
    "    if len(q1words) == 0 or len(q2words) == 0:\n",
    "        # The computer-generated chaff includes a few questions that are nothing but stopwords\n",
    "        return 0\n",
    "    shared_words_in_q = [w for w in q1words.keys() if w in q2words]\n",
    "    \n",
    "    # 这里一定要注意 float，否则最后计算结果为 int\n",
    "    R = float(len(shared_words_in_q) * 2)/(len(q1words) + len(q2words))\n",
    "    return R"
   ]
  },
  {
   "cell_type": "code",
   "execution_count": 13,
   "metadata": {},
   "outputs": [],
   "source": [
    "'''\n",
    "tfidf word match share\n",
    "'''\n",
    "def tfidf_word_match_share(row):\n",
    "    q1words = {}\n",
    "    q2words = {}\n",
    "    for word in jieba_cut(row['s1']):\n",
    "        if word not in stopwords:\n",
    "            q1words[word] = 1\n",
    "    for word in jieba_cut(row['s2']):\n",
    "        if word not in stopwords:\n",
    "            q2words[word] = 1\n",
    "    if len(q1words) == 0 or len(q2words) == 0:\n",
    "        # The computer-generated chaff includes a few questions that are nothing but stopwords\n",
    "        return 0\n",
    "    \n",
    "    shared_weights = [weights.get(w, 0) for w in q1words.keys() if w in q2words] + [weights.get(w, 0) for w in q2words.keys() if w in q1words]\n",
    "    total_weights = [weights.get(w, 0) for w in q1words] + [weights.get(w, 0) for w in q2words]\n",
    "    \n",
    "    R = np.sum(shared_weights) / np.sum(total_weights)\n",
    "    return R"
   ]
  },
  {
   "cell_type": "code",
   "execution_count": 15,
   "metadata": {},
   "outputs": [],
   "source": [
    "train_qs = pd.Series(df_train['s1'].tolist() + df_train['s2'].tolist()).astype(str)"
   ]
  },
  {
   "cell_type": "code",
   "execution_count": 17,
   "metadata": {},
   "outputs": [
    {
     "name": "stdout",
     "output_type": "stream",
     "text": [
      "0          怎么更改花呗手机号码\n",
      "1     也开不了花呗，就这样了？完事了\n",
      "2         花呗冻结以后还能开通吗\n",
      "3            如何得知关闭借呗\n",
      "4              花呗扫码付钱\n",
      "5          花呗逾期后不能分期吗\n",
      "6              花呗分期清空\n",
      "7            借呗逾期短信通知\n",
      "8    借呗即将到期要还的账单还能分期吗\n",
      "9       花呗为什么不能支付手机交易\n",
      "dtype: object\n",
      "204954\n"
     ]
    }
   ],
   "source": [
    "print train_qs[:10]\n",
    "print len(train_qs)"
   ]
  },
  {
   "cell_type": "code",
   "execution_count": null,
   "metadata": {},
   "outputs": [
    {
     "name": "stderr",
     "output_type": "stream",
     "text": [
      "Building prefix dict from the default dictionary ...\n",
      "Loading model from cache /var/folders/b0/cdwjddzs199007c6hhw6qgh80000gn/T/jieba.cache\n",
      "Loading model cost 0.446 seconds.\n",
      "Prefix dict has been built succesfully.\n",
      "/Users/yuanxihao/.pyenv/versions/2.7.14/lib/python2.7/site-packages/ipykernel_launcher.py:8: UnicodeWarning: Unicode equal comparison failed to convert both arguments to Unicode - interpreting them as being unequal\n",
      "  \n",
      "/Users/yuanxihao/.pyenv/versions/2.7.14/lib/python2.7/site-packages/ipykernel_launcher.py:11: UnicodeWarning: Unicode equal comparison failed to convert both arguments to Unicode - interpreting them as being unequal\n",
      "  # This is added back by InteractiveShellApp.init_path()\n"
     ]
    }
   ],
   "source": [
    "train_word_match = df_train.apply(word_match_share, axis=1, raw=True)"
   ]
  },
  {
   "cell_type": "code",
   "execution_count": null,
   "metadata": {},
   "outputs": [],
   "source": [
    "plt.figure(figsize=[15,5])\n",
    "plt.hist(train_word_match[df_train['is_duplicate'] == 0], bins=20, normed=True, label='not duplicate')\n",
    "plt.hist(train_word_match[df_train['is_duplicate'] == 1], bins=20, normed=True, alpha=0.7, label='duplicate')\n",
    "plt.legend()\n",
    "plt.title('Label distribution over word_match_share', fontsize=15)\n",
    "plt.xlabel('word_match_share', fontsize=15)\n"
   ]
  },
  {
   "cell_type": "code",
   "execution_count": null,
   "metadata": {},
   "outputs": [],
   "source": []
  }
 ],
 "metadata": {
  "kernelspec": {
   "display_name": "Python 2",
   "language": "python",
   "name": "python2"
  },
  "language_info": {
   "codemirror_mode": {
    "name": "ipython",
    "version": 2
   },
   "file_extension": ".py",
   "mimetype": "text/x-python",
   "name": "python",
   "nbconvert_exporter": "python",
   "pygments_lexer": "ipython2",
   "version": "2.7.14"
  }
 },
 "nbformat": 4,
 "nbformat_minor": 1
}
